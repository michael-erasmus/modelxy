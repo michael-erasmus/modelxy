{
 "cells": [
  {
   "cell_type": "markdown",
   "metadata": {},
   "source": [
    "# Think Columns\n",
    "\n",
    "- toc: false \n",
    "- badges: true\n",
    "- comments: true\n",
    "- categories: [analytics_engineering, sql]\n",
    "- header_image: /images/think_columns_header.jpg\n",
    "- header_image_alt: Lego landscape, made by Midjourney\n",
    "- author: Michael Erasmus\n"
   ]
  },
  {
   "cell_type": "markdown",
   "metadata": {},
   "source": [
    "_This is a first installment in a series of posts I plan on writing related to the basics of analytical SQL databases. This content probably most useful to junior or aspriring analytics engineers._\n",
    "\n",
    "What is a columnar database?\n",
    "\n",
    "Most well known modern data warehouses (Snowflake, BigQuery, Redshift, etc) are column-oriented, or just columnar databases. This means that unlike more mainstream SQL databases, data is stored in columns instead of rows. So for any particular table in the database, all the data for a certain column will be stored sequentially.\n",
    "\n",
    "Why does this matter? Well, this means that typical queries that you would need to do analysis could be much faster on huge datasets.\n",
    "\n",
    "Take a very simple aggregation such as this:\n",
    "\n",
    "```sql\n",
    "select sum(amount) from transactions\n",
    "```\n",
    "\n",
    "Let's say you're running this on a really big database table with millions of records. In a columnar database, since all the data in the `amount` column is optimized to be stored together, this query will be much faster than on a traditional database, especially if you haven't optimized the table for doing aggregations on that field.\n",
    "\n",
    "We often do a lot of these kinds of aggregations (`MIN`, `MAX`, `SUM`, `COUNT`, `AVG`, etc) for analytics work, which columnar databases can do really well.\n",
    "\n",
    "Another benefit of being columnar is that the database can optimize well for performing as much work in memory as possible, and easily distribute workloads in parallel onto a cluster of computers. In our query above, the DB engine only needs to load up data for the column `amount` to perform the count, and since it's all stored together, this is easy to do without having to scan the full rows.\n",
    "\n",
    "If a table has millions or even billions of records, some columnar databases can store segments of all the data in our column on different nodes in of cluster, which can individualy compute the sum of each segement seperately, which can then be tallied into a final sum fairly quickly. In this way you can scale an operation that would have been slow or even impossible on a single machine to a cluster of machines easily.\n",
    "\n",
    "## Why should care about if my database is columnar?\n",
    "\n",
    "In a lot of ways, when your using a colummar database, the database engine doesn't need you to know much about the fact that it's columnar at all. On the surface, you can access it very much like you would a row-oriented database such as PostgreSQL. At a semantic level, most database entities and queries will appear almost identical. You'll can also stick to the familiar SQL database nomenclature, using terms such as _tables_, _rows_, _columns_ and _fields_.\n",
    "\n",
    "Columnar databases do, however, significantly change the way you think about modeling and querying data. Even though you don't have to be concerned about the low-level details (unless you're interested), having a high-level understanding of the important concepts will help guide and inform your decisions on how you ingest, store and query your data.\n",
    "\n",
    "For instance, in a columnar database, it's fine to have a huge table with many columns that might be sparsely populated. As long as your not selecting a lot of columns at once, and only performing aggregations on certain columns, this will still be super performant.\n",
    "\n",
    "Since tables can have many columns, you might not need to normalize data as much, which is also a great win for analytics.\n",
    "\n",
    "## What are columnar databases not good for?\n",
    "\n",
    "The flip side of all of the benefits of a columnar database is that a simple ```select *``` query that might only return one or a few rows can be surprisingly slow.\n",
    "\n",
    "Unlike traditional SQL databases, fields related to the same row in a table might not be stored close to each other, and could often be stored in different 'slices' of your database, which could mean different machines in your cluster. So, in a query, selecting all of your table's columns for any particular row might force the database to find and put together a whole lot of scattered datapoints, which can result in a slower than expected execution time.\n",
    "\n",
    "That doesn't mean that you can't write fast queries that need access to many or all of the columns in at all, it's still perfectly possible but it might mean that need spend more time thinking about how design and optimize your database.\n",
    "\n",
    "This is why a columnar database won't make for a great database to power a normal web or client-server application, where you're often reading in all the columns for a small number of rows. Another reason why columnar databases aren't that great for these kinds of applications is that it's not really optimized for writing small batches of records to the database.\n",
    "\n",
    "But it can perform analysis and number crunching on huge datasets incredibly quickly if you know what your doing!"
   ]
  },
  {
   "cell_type": "markdown",
   "metadata": {},
   "source": []
  },
  {
   "cell_type": "markdown",
   "metadata": {},
   "source": [
    "## Implementing the concept with code\n",
    "\n",
    "Let's make the concept of a column vs row oriented database more concrete by writing some code.\n",
    "\n",
    "We'll build a very, very basic 'database' implementation in Python. \n",
    "\n",
    "First we'll create a classic-style in-memory database table to store a list of transactions. Each 'row' is a dictionary with values for each column. "
   ]
  },
  {
   "cell_type": "code",
   "execution_count": 28,
   "metadata": {},
   "outputs": [],
   "source": [
    "transactions =[\n",
    "    {\"id\": 1, \"customer_id\": 1, \"product_id\": 1, \"amount\": 9.99},\n",
    "    {\"id\": 2, \"customer_id\": 1, \"product_id\": 2, \"amount\": 4.99},\n",
    "    {\"id\": 3, \"customer_id\": 2, \"product_id\": 3, \"amount\": 25.99},   \n",
    "]"
   ]
  },
  {
   "cell_type": "markdown",
   "metadata": {},
   "source": [
    "Now we can 'query' our database. Let's say we want to calculate our total revenue, the sum of all the `amount` columns.\n",
    "This function will loop through each transaction, read the `amount` and then sum it all together."
   ]
  },
  {
   "cell_type": "code",
   "execution_count": 32,
   "metadata": {},
   "outputs": [
    {
     "data": {
      "text/plain": [
       "40.97"
      ]
     },
     "execution_count": 32,
     "metadata": {},
     "output_type": "execute_result"
    }
   ],
   "source": [
    "def get_total_transaction_revenue():\n",
    "    \"\"\"\n",
    "    Return the total revenue from all transactions\n",
    "    \"\"\"\n",
    "    return sum([t[\"amount\"] for t in transactions])\n",
    "\n",
    "get_total_transaction_revenue()"
   ]
  },
  {
   "cell_type": "markdown",
   "metadata": {},
   "source": [
    "Let's benchmark this function. We create a `benchmark` function that will run our query 1 million times and see how long it takes to run."
   ]
  },
  {
   "cell_type": "code",
   "execution_count": 39,
   "metadata": {},
   "outputs": [],
   "source": [
    "def benchmark(func):\n",
    "    \n",
    "    import timeit\n",
    "    num_runs = 10**6\n",
    "    duration = timeit.Timer(func).timeit(number = num_runs)\n",
    "\n",
    "    print(f\"{num_runs} runs took {duration} seconds\")"
   ]
  },
  {
   "cell_type": "markdown",
   "metadata": {},
   "source": [
    "And we run the benchmark:"
   ]
  },
  {
   "cell_type": "code",
   "execution_count": 40,
   "metadata": {},
   "outputs": [
    {
     "name": "stdout",
     "output_type": "stream",
     "text": [
      "1000000 runs took 1.9082819640170783 seconds\n"
     ]
    }
   ],
   "source": [
    "benchmark(get_total_transaction_revenue)"
   ]
  },
  {
   "cell_type": "markdown",
   "metadata": {},
   "source": [
    "Ok, so let's make a columnar version of our 'table'. Instead of starting from scratch I'll convert our existing `transactions` data structure. \n",
    "\n",
    "The main difference to note here is that our table is now a dictionary with keys for each column, which maps to a list of values for each row."
   ]
  },
  {
   "cell_type": "code",
   "execution_count": 34,
   "metadata": {},
   "outputs": [
    {
     "data": {
      "text/plain": [
       "{'id': [1, 2, 3],\n",
       " 'customer_id': [1, 1, 2],\n",
       " 'product_id': [1, 2, 3],\n",
       " 'amount': [9.99, 4.99, 25.99]}"
      ]
     },
     "execution_count": 34,
     "metadata": {},
     "output_type": "execute_result"
    }
   ],
   "source": [
    "transactions_columnar = {\n",
    "    \"id\": [t[\"id\"] for t in transactions],\n",
    "    \"customer_id\": [t[\"customer_id\"] for t in transactions],\n",
    "    \"product_id\": [t[\"product_id\"] for t in transactions],\n",
    "    \"amount\": [t[\"amount\"] for t in transactions],\n",
    "}\n",
    "\n",
    "transactions_columnar"
   ]
  },
  {
   "cell_type": "markdown",
   "metadata": {},
   "source": [
    "Now we can build a similar 'query' function to calculate our total revenue on our column-oriented table. Instead of having to loop through each row, we can just sum up the `amount` column directly"
   ]
  },
  {
   "cell_type": "code",
   "execution_count": 41,
   "metadata": {},
   "outputs": [
    {
     "data": {
      "text/plain": [
       "40.97"
      ]
     },
     "execution_count": 41,
     "metadata": {},
     "output_type": "execute_result"
    }
   ],
   "source": [
    "def get_total_transaction_revenue_cols():\n",
    "    \"\"\"\n",
    "    Return the total revenue from all transactions\n",
    "    \"\"\"\n",
    "    return sum(transactions_columnar[\"amount\"])\n",
    "\n",
    "get_total_transaction_revenue_cols()\n"
   ]
  },
  {
   "cell_type": "markdown",
   "metadata": {},
   "source": [
    "This gives us the same result as we got before."
   ]
  },
  {
   "cell_type": "code",
   "execution_count": 42,
   "metadata": {},
   "outputs": [],
   "source": [
    "assert get_total_transaction_revenue() == get_total_transaction_revenue_cols()"
   ]
  },
  {
   "cell_type": "markdown",
   "metadata": {},
   "source": [
    "Let's benchmark this function then:"
   ]
  },
  {
   "cell_type": "code",
   "execution_count": 43,
   "metadata": {},
   "outputs": [
    {
     "name": "stdout",
     "output_type": "stream",
     "text": [
      "1000000 runs took 1.1226091338321567 seconds\n"
     ]
    }
   ],
   "source": [
    "benchmark(get_total_transaction_revenue_cols)"
   ]
  },
  {
   "cell_type": "markdown",
   "metadata": {},
   "source": [
    "Not a massive difference, but we can show that this is a faster implementation.\n",
    "\n",
    "Even on this toy example we can see the benefit of using a column-oriented datastructure for certain aggregation patterns."
   ]
  },
  {
   "cell_type": "markdown",
   "metadata": {},
   "source": []
  }
 ],
 "metadata": {
  "kernelspec": {
   "display_name": "Python 3.10.4 64-bit ('modelxy-venv')",
   "language": "python",
   "name": "python3"
  },
  "language_info": {
   "codemirror_mode": {
    "name": "ipython",
    "version": 3
   },
   "file_extension": ".py",
   "mimetype": "text/x-python",
   "name": "python",
   "nbconvert_exporter": "python",
   "pygments_lexer": "ipython3",
   "version": "3.10.4"
  },
  "orig_nbformat": 4,
  "vscode": {
   "interpreter": {
    "hash": "aa806883a546b0749fbca5321c31500522484782178a12a9e6a0ad9780498bce"
   }
  }
 },
 "nbformat": 4,
 "nbformat_minor": 2
}
